{
  "cells": [
    {
      "cell_type": "markdown",
      "metadata": {
        "id": "view-in-github",
        "colab_type": "text"
      },
      "source": [
        "<a href=\"https://colab.research.google.com/github/HalfMoon1008/yeardream/blob/main/sklearn_tutorial.ipynb\" target=\"_parent\"><img src=\"https://colab.research.google.com/assets/colab-badge.svg\" alt=\"Open In Colab\"/></a>"
      ]
    },
    {
      "cell_type": "markdown",
      "id": "d90ca7ff",
      "metadata": {
        "id": "d90ca7ff"
      },
      "source": [
        "### Scikit-learn을 이용한 머신러닝 학습 가이드!\n",
        "\n",
        "- scikit-learn(sklearn)을 완전히 사용해서 end-to-end로 학습시키는 코드를 완성해봅니다!\n",
        "\n",
        "- 너무나 유명한 california house pricing 데이터를 이용하여 회귀분석 예제 코드를 만들어봅시다.\n",
        "\n",
        "\n",
        "> Data Load - Data Preprocessing - Fit - Evalution - Predict"
      ]
    },
    {
      "cell_type": "code",
      "execution_count": null,
      "id": "e5e1add9",
      "metadata": {
        "id": "e5e1add9"
      },
      "outputs": [],
      "source": [
        "!pip install sklearn"
      ]
    },
    {
      "cell_type": "code",
      "execution_count": 5,
      "id": "ae90ce8c",
      "metadata": {
        "colab": {
          "base_uri": "https://localhost:8080/"
        },
        "id": "ae90ce8c",
        "outputId": "be3a7d76-0eef-4b3a-f12e-8fe673b29604"
      },
      "outputs": [
        {
          "output_type": "stream",
          "name": "stdout",
          "text": [
            "(20640, 8) (20640,)\n"
          ]
        }
      ],
      "source": [
        "# Hands-on!!\n",
        "from sklearn.datasets import fetch_california_housing\n",
        "\n",
        "x = fetch_california_housing(as_frame = True).data # X\n",
        "y = fetch_california_housing(as_frame = True).target # y\n",
        "fetch_california_housing(as_frame = True).frame # X + y\n",
        "print(x.shape, y.shape)"
      ]
    },
    {
      "cell_type": "code",
      "source": [
        "import numpy as np\n",
        "import pandas as pd\n",
        "import matplotlib.pyplot as plt\n",
        "import seaborn as sns\n",
        "\n",
        "# 1. 결측치 확인\n",
        "# x.info()\n",
        "x[x.isnull().any(axis=1)]\n",
        "\n",
        "# 2. dtype이 object인 column이 있는지 확인 --> categorical feature를 확인하기 위해!\n",
        "\n",
        "\n",
        "# 3. target distribution\n",
        "plt.figure(figsize=(12,8))\n",
        "sns.histplot(y, bins=50)\n",
        "plt.show()"
      ],
      "metadata": {
        "colab": {
          "base_uri": "https://localhost:8080/",
          "height": 497
        },
        "id": "j1ItHIPUfbI8",
        "outputId": "ac95a237-d691-4150-bec8-543995aff391"
      },
      "id": "j1ItHIPUfbI8",
      "execution_count": 20,
      "outputs": [
        {
          "output_type": "display_data",
          "data": {
            "text/plain": [
              "<Figure size 864x576 with 1 Axes>"
            ],
            "image/png": "[encoded data removed]"
          },
          "metadata": {
            "needs_background": "light"
          }
        }
      ]
    },
    {
      "cell_type": "code",
      "source": [
        "## Train-test Split\n",
        "\n",
        "from sklearn.model_selection import train_test_split\n",
        "\n",
        "# 트테트테\n",
        "x_train, x_test, y_trian, y_test = train_test_split(x, y, test_size=0.2, random_state=0xC0FFEE) #20%를 테스트 케이스로 구성\n",
        "print(x_train.shape, x_test.shape, y_trian.shape, y_test.shape)"
      ],
      "metadata": {
        "colab": {
          "base_uri": "https://localhost:8080/"
        },
        "id": "oJZBAx7qhNCX",
        "outputId": "039b6f78-fbc1-4ec6-c421-146b607b7ce1"
      },
      "id": "oJZBAx7qhNCX",
      "execution_count": 19,
      "outputs": [
        {
          "output_type": "stream",
          "name": "stdout",
          "text": [
            "(16512, 8) (4128, 8) (16512,) (4128,)\n"
          ]
        }
      ]
    },
    {
      "cell_type": "markdown",
      "source": [
        "### Training(Fit)"
      ],
      "metadata": {
        "id": "HmctUAbWkKyK"
      },
      "id": "HmctUAbWkKyK"
    },
    {
      "cell_type": "code",
      "source": [
        "# 1. 사용할 함수를 불러옵니다.\n",
        "from sklearn.linear_model import LinearRegression\n",
        "from lightgbm.sklearn import LGBMRegressor\n",
        "\n",
        "# 2. 사용할 함수의 객체를 생성합니다.\n",
        "reg = LinearRegression()\n",
        "reg2 = LGBMRegressor()\n",
        "\n",
        "# 3. 학습\n",
        "reg.fit(x_train, y_trian) ## Regrassion : supervised learning  --> parameter update\n",
        "reg2.fit(x_train, y_trian)"
      ],
      "metadata": {
        "colab": {
          "base_uri": "https://localhost:8080/"
        },
        "id": "wmki0zBEkMBu",
        "outputId": "1c4089f8-ca99-4a55-f43b-4bb3f0d8dcaa"
      },
      "id": "wmki0zBEkMBu",
      "execution_count": 35,
      "outputs": [
        {
          "output_type": "execute_result",
          "data": {
            "text/plain": [
              "LGBMRegressor()"
            ]
          },
          "metadata": {},
          "execution_count": 35
        }
      ]
    },
    {
      "cell_type": "markdown",
      "source": [
        "### Evaluation"
      ],
      "metadata": {
        "id": "O2HfUAeal6M5"
      },
      "id": "O2HfUAeal6M5"
    },
    {
      "cell_type": "code",
      "source": [
        "# 학습 결과를 확인 (평가 지표)\n",
        "\n",
        "from sklearn.metrics import mean_squared_error, r2_score\n",
        "\n",
        "pred = reg.predict(x_train) # y_hat\n",
        "pred2 = reg2.predict(x_train) # y_hat\n",
        "\n",
        "\n",
        "print(\"---Linear Regression---\")\n",
        "print(\"MSE : %.4f\" % mean_squared_error(y_trian, pred))\n",
        "print(\"R2 : %.4f\" % r2_score(y_trian, pred))\n",
        "print(\"\\n\\n---LightGBM---\")\n",
        "print(\"MSE : %.4f\" % mean_squared_error(y_trian, pred2))\n",
        "print(\"R2 : %.4f\" % r2_score(y_trian, pred2))"
      ],
      "metadata": {
        "colab": {
          "base_uri": "https://localhost:8080/"
        },
        "id": "ZcpFbhDPlqWW",
        "outputId": "acdf4f71-bbc1-4f3a-e520-8062858abb03"
      },
      "id": "ZcpFbhDPlqWW",
      "execution_count": 37,
      "outputs": [
        {
          "output_type": "stream",
          "name": "stdout",
          "text": [
            "---Linear Regression---\n",
            "MSE : 0.5309\n",
            "R2 : 0.6018\n",
            "\n",
            "\n",
            "---LightGBM---\n",
            "MSE : 0.1570\n",
            "R2 : 0.8822\n"
          ]
        }
      ]
    },
    {
      "cell_type": "markdown",
      "source": [
        "### Prediction"
      ],
      "metadata": {
        "id": "U96YGINvnLkr"
      },
      "id": "U96YGINvnLkr"
    },
    {
      "cell_type": "code",
      "source": [
        "result = reg.predict(x_test)\n",
        "result2 = reg2.predict(x_test)\n",
        "print(\"---Linear Regression---\")\n",
        "print(\"MSE : %.4f\" % mean_squared_error(y_test, result))\n",
        "print(\"R2 : %.4f\" % r2_score(y_test, result))\n",
        "print(\"\\n\\n---LightGBM---\")\n",
        "print(\"MSE : %.4f\" % mean_squared_error(y_test, result2))\n",
        "print(\"R2 : %.4f\" % r2_score(y_test, result2))\n",
        "\n",
        "## MSE는 0에 가까울수록 성능이 좋은 것\n",
        "## R2는 1에 가까울수록 성능이 좋은 것"
      ],
      "metadata": {
        "colab": {
          "base_uri": "https://localhost:8080/"
        },
        "id": "mGyLag71mUCC",
        "outputId": "ecaa872c-2285-4a65-9c4a-ff4c8dbf9e13"
      },
      "id": "mGyLag71mUCC",
      "execution_count": 38,
      "outputs": [
        {
          "output_type": "stream",
          "name": "stdout",
          "text": [
            "---Linear Regression---\n",
            "MSE : 0.5005\n",
            "R2 : 0.6224\n",
            "\n",
            "\n",
            "---LightGBM---\n",
            "MSE : 0.2106\n",
            "R2 : 0.8411\n"
          ]
        }
      ]
    },
    {
      "cell_type": "code",
      "source": [
        ""
      ],
      "metadata": {
        "id": "t1aaHFP6nX_N"
      },
      "id": "t1aaHFP6nX_N",
      "execution_count": null,
      "outputs": []
    }
  ],
  "metadata": {
    "kernelspec": {
      "display_name": "Python 3 (ipykernel)",
      "language": "python",
      "name": "python3"
    },
    "language_info": {
      "codemirror_mode": {
        "name": "ipython",
        "version": 3
      },
      "file_extension": ".py",
      "mimetype": "text/x-python",
      "name": "python",
      "nbconvert_exporter": "python",
      "pygments_lexer": "ipython3",
      "version": "3.10.2"
    },
    "colab": {
      "name": "6. sklearn-tutorial.ipynb",
      "provenance": [],
      "include_colab_link": true
    }
  },
  "nbformat": 4,
  "nbformat_minor": 5
}