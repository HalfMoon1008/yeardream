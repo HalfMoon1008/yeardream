{
  "nbformat": 4,
  "nbformat_minor": 0,
  "metadata": {
    "colab": {
      "name": "TitanicEDA.ipynb",
      "provenance": [],
      "authorship_tag": "ABX9TyOETErv0PxT1nDv5F8kNh6a",
      "include_colab_link": true
    },
    "kernelspec": {
      "name": "python3",
      "display_name": "Python 3"
    },
    "language_info": {
      "name": "python"
    }
  },
  "cells": [
    {
      "cell_type": "markdown",
      "metadata": {
        "id": "view-in-github",
        "colab_type": "text"
      },
      "source": [
        "<a href=\"https://colab.research.google.com/github/HalfMoon1008/yeardream/blob/main/TitanicEDA.ipynb\" target=\"_parent\"><img src=\"https://colab.research.google.com/assets/colab-badge.svg\" alt=\"Open In Colab\"/></a>"
      ]
    },
    {
      "cell_type": "markdown",
      "source": [
        "Data 출처 : [Kaggle Titanic](https://www.kaggle.com/competitions/titanic/data)"
      ],
      "metadata": {
        "id": "wYxFEVG9gmD0"
      }
    },
    {
      "cell_type": "code",
      "source": [
        "# 필요모듈 import\n",
        "import numpy as np\n",
        "import pandas as pd\n",
        "import matplotlib.pyplot as plt\n",
        "import seaborn as sns"
      ],
      "metadata": {
        "id": "-z9bto2Bjiaq"
      },
      "execution_count": 1,
      "outputs": []
    },
    {
      "cell_type": "code",
      "execution_count": 2,
      "metadata": {
        "colab": {
          "base_uri": "https://localhost:8080/"
        },
        "id": "D-cKwwMMfxp8",
        "outputId": "52e21cc9-669f-4114-b097-8a42003d8cd2"
      },
      "outputs": [
        {
          "output_type": "stream",
          "name": "stdout",
          "text": [
            "Drive already mounted at /content/drive; to attempt to forcibly remount, call drive.mount(\"/content/drive\", force_remount=True).\n"
          ]
        }
      ],
      "source": [
        "# 드라이브 마운트\n",
        "from google.colab import drive\n",
        "drive.mount('/content/drive')"
      ]
    },
    {
      "cell_type": "markdown",
      "source": [
        "## 데이터 확인"
      ],
      "metadata": {
        "id": "dGahWLgYq70L"
      }
    },
    {
      "cell_type": "code",
      "source": [
        "df = pd.read_csv('/content/drive/MyDrive/00.이어드림/오프라인 6조/TitanicEDA/train.csv')\n",
        "df.head(10)"
      ],
      "metadata": {
        "colab": {
          "base_uri": "https://localhost:8080/",
          "height": 965
        },
        "id": "9B-eYIqVjjUx",
        "outputId": "c3b371c1-a345-4794-f881-52db3c1f1185"
      },
      "execution_count": 3,
      "outputs": [
        {
          "output_type": "execute_result",
          "data": {
            "text/plain": [
              "   PassengerId  Survived  Pclass  \\\n",
              "0            1         0       3   \n",
              "1            2         1       1   \n",
              "2            3         1       3   \n",
              "3            4         1       1   \n",
              "4            5         0       3   \n",
              "5            6         0       3   \n",
              "6            7         0       1   \n",
              "7            8         0       3   \n",
              "8            9         1       3   \n",
              "9           10         1       2   \n",
              "\n",
              "                                                Name     Sex   Age  SibSp  \\\n",
              "0                            Braund, Mr. Owen Harris    male  22.0      1   \n",
              "1  Cumings, Mrs. John Bradley (Florence Briggs Th...  female  38.0      1   \n",
              "2                             Heikkinen, Miss. Laina  female  26.0      0   \n",
              "3       Futrelle, Mrs. Jacques Heath (Lily May Peel)  female  35.0      1   \n",
              "4                           Allen, Mr. William Henry    male  35.0      0   \n",
              "5                                   Moran, Mr. James    male   NaN      0   \n",
              "6                            McCarthy, Mr. Timothy J    male  54.0      0   \n",
              "7                     Palsson, Master. Gosta Leonard    male   2.0      3   \n",
              "8  Johnson, Mrs. Oscar W (Elisabeth Vilhelmina Berg)  female  27.0      0   \n",
              "9                Nasser, Mrs. Nicholas (Adele Achem)  female  14.0      1   \n",
              "\n",
              "   Parch            Ticket     Fare Cabin Embarked  \n",
              "0      0         A/5 21171   7.2500   NaN        S  \n",
              "1      0          PC 17599  71.2833   C85        C  \n",
              "2      0  STON/O2. 3101282   7.9250   NaN        S  \n",
              "3      0            113803  53.1000  C123        S  \n",
              "4      0            373450   8.0500   NaN        S  \n",
              "5      0            330877   8.4583   NaN        Q  \n",
              "6      0             17463  51.8625   E46        S  \n",
              "7      1            349909  21.0750   NaN        S  \n",
              "8      2            347742  11.1333   NaN        S  \n",
              "9      0            237736  30.0708   NaN        C  "
            ],
            "text/html": [
              "\n",
              "  <div id=\"df-dde2232e-56c3-4c79-b3b8-d4ff913e854b\">\n",
              "    <div class=\"colab-df-container\">\n",
              "      <div>\n",
              "<style scoped>\n",
              "    .dataframe tbody tr th:only-of-type {\n",
              "        vertical-align: middle;\n",
              "    }\n",
              "\n",
              "    .dataframe tbody tr th {\n",
              "        vertical-align: top;\n",
              "    }\n",
              "\n",
              "    .dataframe thead th {\n",
              "        text-align: right;\n",
              "    }\n",
              "</style>\n",
              "<table border=\"1\" class=\"dataframe\">\n",
              "  <thead>\n",
              "    <tr style=\"text-align: right;\">\n",
              "      <th></th>\n",
              "      <th>PassengerId</th>\n",
              "      <th>Survived</th>\n",
              "      <th>Pclass</th>\n",
              "      <th>Name</th>\n",
              "      <th>Sex</th>\n",
              "      <th>Age</th>\n",
              "      <th>SibSp</th>\n",
              "      <th>Parch</th>\n",
              "      <th>Ticket</th>\n",
              "      <th>Fare</th>\n",
              "      <th>Cabin</th>\n",
              "      <th>Embarked</th>\n",
              "    </tr>\n",
              "  </thead>\n",
              "  <tbody>\n",
              "    <tr>\n",
              "      <th>0</th>\n",
              "      <td>1</td>\n",
              "      <td>0</td>\n",
              "      <td>3</td>\n",
              "      <td>Braund, Mr. Owen Harris</td>\n",
              "      <td>male</td>\n",
              "      <td>22.0</td>\n",
              "      <td>1</td>\n",
              "      <td>0</td>\n",
              "      <td>A/5 21171</td>\n",
              "      <td>7.2500</td>\n",
              "      <td>NaN</td>\n",
              "      <td>S</td>\n",
              "    </tr>\n",
              "    <tr>\n",
              "      <th>1</th>\n",
              "      <td>2</td>\n",
              "      <td>1</td>\n",
              "      <td>1</td>\n",
              "      <td>Cumings, Mrs. John Bradley (Florence Briggs Th...</td>\n",
              "      <td>female</td>\n",
              "      <td>38.0</td>\n",
              "      <td>1</td>\n",
              "      <td>0</td>\n",
              "      <td>PC 17599</td>\n",
              "      <td>71.2833</td>\n",
              "      <td>C85</td>\n",
              "      <td>C</td>\n",
              "    </tr>\n",
              "    <tr>\n",
              "      <th>2</th>\n",
              "      <td>3</td>\n",
              "      <td>1</td>\n",
              "      <td>3</td>\n",
              "      <td>Heikkinen, Miss. Laina</td>\n",
              "      <td>female</td>\n",
              "      <td>26.0</td>\n",
              "      <td>0</td>\n",
              "      <td>0</td>\n",
              "      <td>STON/O2. 3101282</td>\n",
              "      <td>7.9250</td>\n",
              "      <td>NaN</td>\n",
              "      <td>S</td>\n",
              "    </tr>\n",
              "    <tr>\n",
              "      <th>3</th>\n",
              "      <td>4</td>\n",
              "      <td>1</td>\n",
              "      <td>1</td>\n",
              "      <td>Futrelle, Mrs. Jacques Heath (Lily May Peel)</td>\n",
              "      <td>female</td>\n",
              "      <td>35.0</td>\n",
              "      <td>1</td>\n",
              "      <td>0</td>\n",
              "      <td>113803</td>\n",
              "      <td>53.1000</td>\n",
              "      <td>C123</td>\n",
              "      <td>S</td>\n",
              "    </tr>\n",
              "    <tr>\n",
              "      <th>4</th>\n",
              "      <td>5</td>\n",
              "      <td>0</td>\n",
              "      <td>3</td>\n",
              "      <td>Allen, Mr. William Henry</td>\n",
              "      <td>male</td>\n",
              "      <td>35.0</td>\n",
              "      <td>0</td>\n",
              "      <td>0</td>\n",
              "      <td>373450</td>\n",
              "      <td>8.0500</td>\n",
              "      <td>NaN</td>\n",
              "      <td>S</td>\n",
              "    </tr>\n",
              "    <tr>\n",
              "      <th>5</th>\n",
              "      <td>6</td>\n",
              "      <td>0</td>\n",
              "      <td>3</td>\n",
              "      <td>Moran, Mr. James</td>\n",
              "      <td>male</td>\n",
              "      <td>NaN</td>\n",
              "      <td>0</td>\n",
              "      <td>0</td>\n",
              "      <td>330877</td>\n",
              "      <td>8.4583</td>\n",
              "      <td>NaN</td>\n",
              "      <td>Q</td>\n",
              "    </tr>\n",
              "    <tr>\n",
              "      <th>6</th>\n",
              "      <td>7</td>\n",
              "      <td>0</td>\n",
              "      <td>1</td>\n",
              "      <td>McCarthy, Mr. Timothy J</td>\n",
              "      <td>male</td>\n",
              "      <td>54.0</td>\n",
              "      <td>0</td>\n",
              "      <td>0</td>\n",
              "      <td>17463</td>\n",
              "      <td>51.8625</td>\n",
              "      <td>E46</td>\n",
              "      <td>S</td>\n",
              "    </tr>\n",
              "    <tr>\n",
              "      <th>7</th>\n",
              "      <td>8</td>\n",
              "      <td>0</td>\n",
              "      <td>3</td>\n",
              "      <td>Palsson, Master. Gosta Leonard</td>\n",
              "      <td>male</td>\n",
              "      <td>2.0</td>\n",
              "      <td>3</td>\n",
              "      <td>1</td>\n",
              "      <td>349909</td>\n",
              "      <td>21.0750</td>\n",
              "      <td>NaN</td>\n",
              "      <td>S</td>\n",
              "    </tr>\n",
              "    <tr>\n",
              "      <th>8</th>\n",
              "      <td>9</td>\n",
              "      <td>1</td>\n",
              "      <td>3</td>\n",
              "      <td>Johnson, Mrs. Oscar W (Elisabeth Vilhelmina Berg)</td>\n",
              "      <td>female</td>\n",
              "      <td>27.0</td>\n",
              "      <td>0</td>\n",
              "      <td>2</td>\n",
              "      <td>347742</td>\n",
              "      <td>11.1333</td>\n",
              "      <td>NaN</td>\n",
              "      <td>S</td>\n",
              "    </tr>\n",
              "    <tr>\n",
              "      <th>9</th>\n",
              "      <td>10</td>\n",
              "      <td>1</td>\n",
              "      <td>2</td>\n",
              "      <td>Nasser, Mrs. Nicholas (Adele Achem)</td>\n",
              "      <td>female</td>\n",
              "      <td>14.0</td>\n",
              "      <td>1</td>\n",
              "      <td>0</td>\n",
              "      <td>237736</td>\n",
              "      <td>30.0708</td>\n",
              "      <td>NaN</td>\n",
              "      <td>C</td>\n",
              "    </tr>\n",
              "  </tbody>\n",
              "</table>\n",
              "</div>\n",
              "      <button class=\"colab-df-convert\" onclick=\"convertToInteractive('df-dde2232e-56c3-4c79-b3b8-d4ff913e854b')\"\n",
              "              title=\"Convert this dataframe to an interactive table.\"\n",
              "              style=\"display:none;\">\n",
              "        \n",
              "  <svg xmlns=\"http://www.w3.org/2000/svg\" height=\"24px\"viewBox=\"0 0 24 24\"\n",
              "       width=\"24px\">\n",
              "    <path d=\"M0 0h24v24H0V0z\" fill=\"none\"/>\n",
              "    <path d=\"M18.56 5.44l.94 2.06.94-2.06 2.06-.94-2.06-.94-.94-2.06-.94 2.06-2.06.94zm-11 1L8.5 8.5l.94-2.06 2.06-.94-2.06-.94L8.5 2.5l-.94 2.06-2.06.94zm10 10l.94 2.06.94-2.06 2.06-.94-2.06-.94-.94-2.06-.94 2.06-2.06.94z\"/><path d=\"M17.41 7.96l-1.37-1.37c-.4-.4-.92-.59-1.43-.59-.52 0-1.04.2-1.43.59L10.3 9.45l-7.72 7.72c-.78.78-.78 2.05 0 2.83L4 21.41c.39.39.9.59 1.41.59.51 0 1.02-.2 1.41-.59l7.78-7.78 2.81-2.81c.8-.78.8-2.07 0-2.86zM5.41 20L4 18.59l7.72-7.72 1.47 1.35L5.41 20z\"/>\n",
              "  </svg>\n",
              "      </button>\n",
              "      \n",
              "  <style>\n",
              "    .colab-df-container {\n",
              "      display:flex;\n",
              "      flex-wrap:wrap;\n",
              "      gap: 12px;\n",
              "    }\n",
              "\n",
              "    .colab-df-convert {\n",
              "      background-color: #E8F0FE;\n",
              "      border: none;\n",
              "      border-radius: 50%;\n",
              "      cursor: pointer;\n",
              "      display: none;\n",
              "      fill: #1967D2;\n",
              "      height: 32px;\n",
              "      padding: 0 0 0 0;\n",
              "      width: 32px;\n",
              "    }\n",
              "\n",
              "    .colab-df-convert:hover {\n",
              "      background-color: #E2EBFA;\n",
              "      box-shadow: 0px 1px 2px rgba(60, 64, 67, 0.3), 0px 1px 3px 1px rgba(60, 64, 67, 0.15);\n",
              "      fill: #174EA6;\n",
              "    }\n",
              "\n",
              "    [theme=dark] .colab-df-convert {\n",
              "      background-color: #3B4455;\n",
              "      fill: #D2E3FC;\n",
              "    }\n",
              "\n",
              "    [theme=dark] .colab-df-convert:hover {\n",
              "      background-color: #434B5C;\n",
              "      box-shadow: 0px 1px 3px 1px rgba(0, 0, 0, 0.15);\n",
              "      filter: drop-shadow(0px 1px 2px rgba(0, 0, 0, 0.3));\n",
              "      fill: #FFFFFF;\n",
              "    }\n",
              "  </style>\n",
              "\n",
              "      <script>\n",
              "        const buttonEl =\n",
              "          document.querySelector('#df-dde2232e-56c3-4c79-b3b8-d4ff913e854b button.colab-df-convert');\n",
              "        buttonEl.style.display =\n",
              "          google.colab.kernel.accessAllowed ? 'block' : 'none';\n",
              "\n",
              "        async function convertToInteractive(key) {\n",
              "          const element = document.querySelector('#df-dde2232e-56c3-4c79-b3b8-d4ff913e854b');\n",
              "          const dataTable =\n",
              "            await google.colab.kernel.invokeFunction('convertToInteractive',\n",
              "                                                     [key], {});\n",
              "          if (!dataTable) return;\n",
              "\n",
              "          const docLinkHtml = 'Like what you see? Visit the ' +\n",
              "            '<a target=\"_blank\" href=https://colab.research.google.com/notebooks/data_table.ipynb>data table notebook</a>'\n",
              "            + ' to learn more about interactive tables.';\n",
              "          element.innerHTML = '';\n",
              "          dataTable['output_type'] = 'display_data';\n",
              "          await google.colab.output.renderOutput(dataTable, element);\n",
              "          const docLink = document.createElement('div');\n",
              "          docLink.innerHTML = docLinkHtml;\n",
              "          element.appendChild(docLink);\n",
              "        }\n",
              "      </script>\n",
              "    </div>\n",
              "  </div>\n",
              "  "
            ]
          },
          "metadata": {},
          "execution_count": 3
        }
      ]
    },
    {
      "cell_type": "code",
      "source": [
        "df.Cabin.unique()\n",
        "df.Embarked.unique()"
      ],
      "metadata": {
        "colab": {
          "base_uri": "https://localhost:8080/"
        },
        "id": "LNh2qpgxq_y1",
        "outputId": "d663f942-258c-4e9c-a0ee-7a0c393329f8"
      },
      "execution_count": 5,
      "outputs": [
        {
          "output_type": "execute_result",
          "data": {
            "text/plain": [
              "array(['S', 'C', 'Q', nan], dtype=object)"
            ]
          },
          "metadata": {},
          "execution_count": 5
        }
      ]
    },
    {
      "cell_type": "markdown",
      "source": [
        "## 결측치 처리"
      ],
      "metadata": {
        "id": "LJzuSqQwltjm"
      }
    },
    {
      "cell_type": "code",
      "source": [
        "# 결측치 확인\n",
        "df.isnull().sum()"
      ],
      "metadata": {
        "colab": {
          "base_uri": "https://localhost:8080/"
        },
        "id": "BEoiJmXokD2d",
        "outputId": "1264ae9d-c1d4-47e8-c422-2b2f5267242f"
      },
      "execution_count": 17,
      "outputs": [
        {
          "output_type": "execute_result",
          "data": {
            "text/plain": [
              "PassengerId      0\n",
              "Survived         0\n",
              "Pclass           0\n",
              "Name             0\n",
              "Sex              0\n",
              "Age            177\n",
              "SibSp            0\n",
              "Parch            0\n",
              "Ticket           0\n",
              "Fare             0\n",
              "Cabin          687\n",
              "Embarked         2\n",
              "dtype: int64"
            ]
          },
          "metadata": {},
          "execution_count": 17
        }
      ]
    },
    {
      "cell_type": "markdown",
      "source": [
        "###age 결측치 처리"
      ],
      "metadata": {
        "id": "tt2GGeStlxzP"
      }
    },
    {
      "cell_type": "code",
      "source": [
        "# 분포 확인\n",
        "plt.hist(df['Age'],bins=10)"
      ],
      "metadata": {
        "colab": {
          "base_uri": "https://localhost:8080/",
          "height": 336
        },
        "id": "33eDbTzimDHL",
        "outputId": "21d721d9-b5c3-47d1-cf30-940379a25173"
      },
      "execution_count": 18,
      "outputs": [
        {
          "output_type": "execute_result",
          "data": {
            "text/plain": [
              "(array([ 54.,  46., 177., 169., 118.,  70.,  45.,  24.,   9.,   2.]),\n",
              " array([ 0.42 ,  8.378, 16.336, 24.294, 32.252, 40.21 , 48.168, 56.126,\n",
              "        64.084, 72.042, 80.   ]),\n",
              " <a list of 10 Patch objects>)"
            ]
          },
          "metadata": {},
          "execution_count": 18
        },
        {
          "output_type": "display_data",
          "data": {
            "text/plain": [
              "<Figure size 432x288 with 1 Axes>"
            ],
            "image/png": "[encoded data removed]"
          },
          "metadata": {
            "needs_background": "light"
          }
        }
      ]
    },
    {
      "cell_type": "code",
      "source": [
        "df['Age'].describe()"
      ],
      "metadata": {
        "colab": {
          "base_uri": "https://localhost:8080/"
        },
        "id": "d6hYyF9wmDUo",
        "outputId": "c57a0025-e7b4-49c0-d0e4-1777d4161cfd"
      },
      "execution_count": 21,
      "outputs": [
        {
          "output_type": "execute_result",
          "data": {
            "text/plain": [
              "count    714.000000\n",
              "mean      29.699118\n",
              "std       14.526497\n",
              "min        0.420000\n",
              "25%       20.125000\n",
              "50%       28.000000\n",
              "75%       38.000000\n",
              "max       80.000000\n",
              "Name: Age, dtype: float64"
            ]
          },
          "metadata": {},
          "execution_count": 21
        }
      ]
    },
    {
      "cell_type": "code",
      "source": [
        "# 분포와 유사하게 결측치를 채워주기 위한 필요 데이터들. 평균, 표준분포, 크기\n",
        "age_mean = df['Age'].mean()\n",
        "age_mean\n",
        "\n",
        "age_std = df['Age'].std()\n",
        "age_std\n",
        "\n",
        "age_size = 177\n",
        "age_size"
      ],
      "metadata": {
        "colab": {
          "base_uri": "https://localhost:8080/"
        },
        "id": "SVRCZl9cmT5a",
        "outputId": "795e7d84-b174-4ee4-83db-ecbfdc10c97f"
      },
      "execution_count": 24,
      "outputs": [
        {
          "output_type": "execute_result",
          "data": {
            "text/plain": [
              "177"
            ]
          },
          "metadata": {},
          "execution_count": 24
        }
      ]
    },
    {
      "cell_type": "code",
      "source": [
        "np.random.seed(177) \n",
        "rand_age = abs(np.random.normal(loc=age_mean, scale=age_std, size=age_size))\n",
        "print(rand_age)\n",
        "# np.random.normal()를 통한 정규분포를 통한 유사 난수 생성.\n",
        "# age의 평균값, 표준편차, 난수의 크기를 넣어준다.\n",
        "# 95%에 대해 나이대의 분포를 알아낼 수 있고, 5%의 경우 음수로 표시되기 때문에 abs로 감쌈"
      ],
      "metadata": {
        "colab": {
          "base_uri": "https://localhost:8080/"
        },
        "id": "H1w2YbtGmkjf",
        "outputId": "42c0e894-93eb-40f4-d9a7-0b6a410f2a96"
      },
      "execution_count": 25,
      "outputs": [
        {
          "output_type": "stream",
          "name": "stdout",
          "text": [
            "[51.42479078 29.91432739 10.46457256 26.29601646 41.78151751  8.9637407\n",
            "  5.01973246 35.02813225 18.0493182  53.55933437 34.00894071 53.40008048\n",
            " 43.98388481 45.27706814 27.01191214 14.33595173 57.90188109 51.18358024\n",
            " 37.17944505 17.47012089 41.47263334 33.4443103  31.19432863 43.04385762\n",
            " 36.05887893  7.83225411 50.57488512 23.56514834 46.13169471 44.78049179\n",
            " 17.80032722 31.62935204 32.34439087 43.97495278 46.18473477 33.3619994\n",
            " 30.62483988 43.23751483 30.88652345 36.49927013 27.76004906 51.80522163\n",
            " 15.17975292 23.79248728 38.7071492  32.69295202  0.2145378  23.01420603\n",
            " 43.63467742 22.62895803 31.07918642 52.65009912 36.05021942 31.37812438\n",
            " 10.54380804 37.87209443 13.28645405 42.13514992 27.42151463 21.7241449\n",
            "  8.55167021 42.55802987 36.65771192 22.44699227 28.94755216 47.05435527\n",
            " 32.10877834 47.08957405 45.72830025 29.84380647 41.6422228  29.37813697\n",
            " 26.39087692 14.81750796  0.34788416 20.4740921  26.86913579 36.27116607\n",
            " 16.98852921 39.06724848 42.47615825 26.33331621 27.6558774  46.31493265\n",
            " 27.12963173 34.56319098 17.47374284 55.52936972 24.99947248 11.47844839\n",
            "  7.06994101 53.73979702 30.91164661 26.45138234 36.38431837 40.59156914\n",
            " 15.25268718  2.39033132 29.65292733 49.3164543  21.18886296 41.42494418\n",
            "  1.8554827  35.47017116 47.99339448 45.44914471 33.16684438 10.96088508\n",
            " 30.31459017 40.57597612 33.58509447 54.40981597 37.14582256  8.95206463\n",
            " 50.10069999 24.25426767 44.4822413  15.87196889 31.33183847 27.87205455\n",
            " 44.34897413  5.71611723 22.03869573 24.0004282  28.94544586 16.92632428\n",
            " 45.66084386 19.92914871 15.22485833 27.06156191 11.21001265 49.0915411\n",
            " 28.94965642 29.73565981 34.78448243 26.11954323 43.35180479 21.1503009\n",
            " 29.26072199 24.90818409 40.13699649 20.32458912 46.40026752 21.68760303\n",
            " 25.60879935 57.78251064 19.15371279 10.8873124  23.06549062 24.44173066\n",
            " 31.99787375 23.52578692 49.65450777 27.34146054 26.37353159 14.73107921\n",
            " 16.56957256  8.77850669 14.60191308 57.73234985  7.45617635 14.16148233\n",
            " 39.99526834  3.0069134  32.27734221 25.8284851  30.71034135 10.20550925\n",
            " 38.86481385 44.23442169 24.12108531 25.32355711 26.49836112 14.21075482\n",
            " 29.76939323 42.15952368 60.61200106]\n"
          ]
        }
      ]
    },
    {
      "cell_type": "code",
      "source": [
        "# Step 1) 조건 설정: 타이타닉 Age열의 결측치만 가져오기 \n",
        "cond_isna = df['Age'].isna()\n",
        "\n",
        "# Step 2) 조건이 True에 해당하는 것만 불러오기: 비어있는 값에 rand_age(정규분포샘플)값 채우기 \n",
        "df['Age'][cond_isna] = rand_age"
      ],
      "metadata": {
        "colab": {
          "base_uri": "https://localhost:8080/"
        },
        "id": "rZGYLxCKm2Iz",
        "outputId": "ae8fa67b-ded7-4a10-af1d-0345ad5382d4"
      },
      "execution_count": 27,
      "outputs": [
        {
          "output_type": "stream",
          "name": "stderr",
          "text": [
            "/usr/local/lib/python3.7/dist-packages/ipykernel_launcher.py:5: SettingWithCopyWarning: \n",
            "A value is trying to be set on a copy of a slice from a DataFrame\n",
            "\n",
            "See the caveats in the documentation: https://pandas.pydata.org/pandas-docs/stable/user_guide/indexing.html#returning-a-view-versus-a-copy\n",
            "  \"\"\"\n"
          ]
        }
      ]
    },
    {
      "cell_type": "code",
      "source": [
        "plt.hist(df['Age'],bins=10)"
      ],
      "metadata": {
        "colab": {
          "base_uri": "https://localhost:8080/",
          "height": 354
        },
        "id": "auERmxoWm5W5",
        "outputId": "883895fe-3f1b-4274-9e94-52dc45164f44"
      },
      "execution_count": 29,
      "outputs": [
        {
          "output_type": "execute_result",
          "data": {
            "text/plain": [
              "(array([ 64.,  68., 202., 214., 143., 102.,  59.,  28.,   9.,   2.]),\n",
              " array([ 0.2145378 ,  8.19308402, 16.17163024, 24.15017646, 32.12872268,\n",
              "        40.1072689 , 48.08581512, 56.06436134, 64.04290756, 72.02145378,\n",
              "        80.        ]),\n",
              " <a list of 10 Patch objects>)"
            ]
          },
          "metadata": {},
          "execution_count": 29
        },
        {
          "output_type": "display_data",
          "data": {
            "text/plain": [
              "<Figure size 432x288 with 1 Axes>"
            ],
            "image/png": "[encoded data removed]"
          },
          "metadata": {
            "needs_background": "light"
          }
        }
      ]
    },
    {
      "cell_type": "code",
      "source": [
        "df['Age'].describe()"
      ],
      "metadata": {
        "colab": {
          "base_uri": "https://localhost:8080/"
        },
        "id": "Uv4q1X6ym9d8",
        "outputId": "13ae8031-47fc-4ec9-c9cf-ec5ff8784d52"
      },
      "execution_count": 31,
      "outputs": [
        {
          "output_type": "execute_result",
          "data": {
            "text/plain": [
              "count    891.000000\n",
              "mean      29.820020\n",
              "std       14.384434\n",
              "min        0.214538\n",
              "25%       20.750000\n",
              "50%       28.947552\n",
              "75%       39.000000\n",
              "max       80.000000\n",
              "Name: Age, dtype: float64"
            ]
          },
          "metadata": {},
          "execution_count": 31
        }
      ]
    },
    {
      "cell_type": "markdown",
      "source": [
        "**결측치가 존재했을 때의 data**   \n",
        "![스크린샷 2022-05-10 오전 1.17.52.png](data:image/png;base64,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)"
      ],
      "metadata": {
        "id": "mYvituiGnO7M"
      }
    },
    {
      "cell_type": "markdown",
      "source": [
        "기존의 분포 그래프와는 차이를 보이지만   \n",
        "이외의 값에서는 유사한 값을 보이기 때문에 이대로 진행"
      ],
      "metadata": {
        "id": "S55rENFFnbJO"
      }
    },
    {
      "cell_type": "code",
      "source": [
        "df.isnull().sum()"
      ],
      "metadata": {
        "colab": {
          "base_uri": "https://localhost:8080/"
        },
        "id": "qq0SQy5GnJCy",
        "outputId": "84c63331-7e9b-4af7-92eb-44ba74702c86"
      },
      "execution_count": 32,
      "outputs": [
        {
          "output_type": "execute_result",
          "data": {
            "text/plain": [
              "PassengerId      0\n",
              "Survived         0\n",
              "Pclass           0\n",
              "Name             0\n",
              "Sex              0\n",
              "Age              0\n",
              "SibSp            0\n",
              "Parch            0\n",
              "Ticket           0\n",
              "Fare             0\n",
              "Cabin          687\n",
              "Embarked         2\n",
              "dtype: int64"
            ]
          },
          "metadata": {},
          "execution_count": 32
        }
      ]
    },
    {
      "cell_type": "markdown",
      "source": [
        "### 이외의 값들 결측치 처리"
      ],
      "metadata": {
        "id": "OhcQbymOnuMY"
      }
    },
    {
      "cell_type": "code",
      "source": [
        "# 선착장 정보는 최빈도값으로 대체\n",
        "df['Embarked'].fillna(df['Embarked'].mode()[0],inplace=True)"
      ],
      "metadata": {
        "id": "iL55BeAknsWL"
      },
      "execution_count": 35,
      "outputs": []
    },
    {
      "cell_type": "code",
      "source": [
        "df.isnull().sum()"
      ],
      "metadata": {
        "colab": {
          "base_uri": "https://localhost:8080/"
        },
        "id": "IXqGYU2boZUq",
        "outputId": "f5b9ec02-7936-40b8-d8e3-80cdce3f0667"
      },
      "execution_count": 36,
      "outputs": [
        {
          "output_type": "execute_result",
          "data": {
            "text/plain": [
              "PassengerId      0\n",
              "Survived         0\n",
              "Pclass           0\n",
              "Name             0\n",
              "Sex              0\n",
              "Age              0\n",
              "SibSp            0\n",
              "Parch            0\n",
              "Ticket           0\n",
              "Fare             0\n",
              "Cabin          687\n",
              "Embarked         0\n",
              "dtype: int64"
            ]
          },
          "metadata": {},
          "execution_count": 36
        }
      ]
    },
    {
      "cell_type": "markdown",
      "source": [
        "## EDA 시작"
      ],
      "metadata": {
        "id": "CMLgaGjBq2_l"
      }
    },
    {
      "cell_type": "code",
      "source": [
        "survival = df.Survived.sum()\n",
        "n_survival = df.shape[0] - survival\n",
        "print(survival,n_survival)"
      ],
      "metadata": {
        "colab": {
          "base_uri": "https://localhost:8080/"
        },
        "id": "27Vg2V9ap58P",
        "outputId": "e72d5ff0-6f53-4baf-e53b-15cf3d9210e8"
      },
      "execution_count": 9,
      "outputs": [
        {
          "output_type": "stream",
          "name": "stdout",
          "text": [
            "342 549\n"
          ]
        }
      ]
    },
    {
      "cell_type": "code",
      "source": [
        "df['Pclass'].value_counts()"
      ],
      "metadata": {
        "colab": {
          "base_uri": "https://localhost:8080/"
        },
        "id": "akuAdEBVrMd5",
        "outputId": "5d4b71ea-0316-4a97-ae76-ceffd6834581"
      },
      "execution_count": 10,
      "outputs": [
        {
          "output_type": "execute_result",
          "data": {
            "text/plain": [
              "3    491\n",
              "1    216\n",
              "2    184\n",
              "Name: Pclass, dtype: int64"
            ]
          },
          "metadata": {},
          "execution_count": 10
        }
      ]
    },
    {
      "cell_type": "code",
      "source": [
        "df['Sex'].value_counts()"
      ],
      "metadata": {
        "colab": {
          "base_uri": "https://localhost:8080/"
        },
        "id": "vK5e2E0KrZg-",
        "outputId": "898f4d72-4950-401e-f052-95e8ed86864c"
      },
      "execution_count": 11,
      "outputs": [
        {
          "output_type": "execute_result",
          "data": {
            "text/plain": [
              "male      577\n",
              "female    314\n",
              "Name: Sex, dtype: int64"
            ]
          },
          "metadata": {},
          "execution_count": 11
        }
      ]
    },
    {
      "cell_type": "code",
      "source": [
        "sns.barplot(x='Pclass', y='Survived', hue='Sex', data=df)"
      ],
      "metadata": {
        "colab": {
          "base_uri": "https://localhost:8080/",
          "height": 297
        },
        "id": "10E7V4blreWO",
        "outputId": "142379af-0d80-409e-e45c-a44e4ca7e825"
      },
      "execution_count": 16,
      "outputs": [
        {
          "output_type": "execute_result",
          "data": {
            "text/plain": [
              "<matplotlib.axes._subplots.AxesSubplot at 0x7f1e33400d50>"
            ]
          },
          "metadata": {},
          "execution_count": 16
        },
        {
          "output_type": "display_data",
          "data": {
            "text/plain": [
              "<Figure size 432x288 with 1 Axes>"
            ],
            "image/png": "[encoded data removed]"
          },
          "metadata": {
            "needs_background": "light"
          }
        }
      ]
    },
    {
      "cell_type": "code",
      "source": [
        "sns.barplot(x='Age', y='Survived', hue='Sex', data=df)"
      ],
      "metadata": {
        "colab": {
          "base_uri": "https://localhost:8080/",
          "height": 297
        },
        "id": "P3Pna44Ir7Ag",
        "outputId": "fa06bd11-a95d-4d33-bf4f-de66a6b82cd8"
      },
      "execution_count": 17,
      "outputs": [
        {
          "output_type": "execute_result",
          "data": {
            "text/plain": [
              "<matplotlib.axes._subplots.AxesSubplot at 0x7f1e32512e10>"
            ]
          },
          "metadata": {},
          "execution_count": 17
        },
        {
          "output_type": "display_data",
          "data": {
            "text/plain": [
              "<Figure size 432x288 with 1 Axes>"
            ],
            "image/png": "[encoded data removed]"
          },
          "metadata": {
            "needs_background": "light"
          }
        }
      ]
    },
    {
      "cell_type": "code",
      "source": [
        "sns.barplot(x='Parch', y='Survived', hue='Sex', data=df)"
      ],
      "metadata": {
        "colab": {
          "base_uri": "https://localhost:8080/",
          "height": 297
        },
        "id": "YLpIMElYs0ju",
        "outputId": "068f48e3-c88c-47d9-ed75-7347a989a8df"
      },
      "execution_count": 18,
      "outputs": [
        {
          "output_type": "execute_result",
          "data": {
            "text/plain": [
              "<matplotlib.axes._subplots.AxesSubplot at 0x7f1e320278d0>"
            ]
          },
          "metadata": {},
          "execution_count": 18
        },
        {
          "output_type": "display_data",
          "data": {
            "text/plain": [
              "<Figure size 432x288 with 1 Axes>"
            ],
            "image/png": "[encoded data removed]"
          },
          "metadata": {
            "needs_background": "light"
          }
        }
      ]
    },
    {
      "cell_type": "code",
      "source": [
        "sns.barplot(x=df['Sex'], y=df['Survived'], hue=df['Sex'], dodge=False)"
      ],
      "metadata": {
        "colab": {
          "base_uri": "https://localhost:8080/",
          "height": 297
        },
        "id": "Qo_ie2Uls2ct",
        "outputId": "a8ada99f-8302-4cf8-8458-b72aab38f6fd"
      },
      "execution_count": 20,
      "outputs": [
        {
          "output_type": "execute_result",
          "data": {
            "text/plain": [
              "<matplotlib.axes._subplots.AxesSubplot at 0x7f1e31edd910>"
            ]
          },
          "metadata": {},
          "execution_count": 20
        },
        {
          "output_type": "display_data",
          "data": {
            "text/plain": [
              "<Figure size 432x288 with 1 Axes>"
            ],
            "image/png": "[encoded data removed]"
          },
          "metadata": {
            "needs_background": "light"
          }
        }
      ]
    },
    {
      "cell_type": "code",
      "source": [
        "plt.subplots(figsize=(8,6))\n",
        "sns.heatmap(df.corr(), annot=True, linewidths=2, cmap = 'Greens')"
      ],
      "metadata": {
        "colab": {
          "base_uri": "https://localhost:8080/",
          "height": 447
        },
        "id": "uS5KDB23tCYK",
        "outputId": "fc3d27fa-8408-4b39-eb72-d0a7c37a236c"
      },
      "execution_count": 24,
      "outputs": [
        {
          "output_type": "execute_result",
          "data": {
            "text/plain": [
              "<matplotlib.axes._subplots.AxesSubplot at 0x7f1e31da22d0>"
            ]
          },
          "metadata": {},
          "execution_count": 24
        },
        {
          "output_type": "display_data",
          "data": {
            "text/plain": [
              "<Figure size 576x432 with 2 Axes>"
            ],
            "image/png": "[encoded data removed]"
          },
          "metadata": {
            "needs_background": "light"
          }
        }
      ]
    },
    {
      "cell_type": "code",
      "source": [
        "bin = [0, 18, 25, 35, 60, 100]\n",
        "group_names = ['Baby', 'Youth', 'YoungAdult', 'MiddleAged', 'Senior']\n",
        "df['AgeGroup'] = pd.cut(df['Age'], bins=bin, labels=group_names)\n",
        "df['AgeGroup'].value_counts()\n",
        "\n",
        "sns.barplot(x='AgeGroup', y='Survived', hue='Pclass', data=df)"
      ],
      "metadata": {
        "colab": {
          "base_uri": "https://localhost:8080/",
          "height": 297
        },
        "id": "cZ0dKVjeuaD_",
        "outputId": "6bc0cb4b-02bb-449b-ed6b-73aa27383151"
      },
      "execution_count": 28,
      "outputs": [
        {
          "output_type": "execute_result",
          "data": {
            "text/plain": [
              "<matplotlib.axes._subplots.AxesSubplot at 0x7f1e32623110>"
            ]
          },
          "metadata": {},
          "execution_count": 28
        },
        {
          "output_type": "display_data",
          "data": {
            "text/plain": [
              "<Figure size 432x288 with 1 Axes>"
            ],
            "image/png": "[encoded data removed]"
          },
          "metadata": {
            "needs_background": "light"
          }
        }
      ]
    },
    {
      "cell_type": "code",
      "source": [
        "sns.barplot(x='SibSp', y='Survived', hue='Pclass', data=df, dodge=False)"
      ],
      "metadata": {
        "colab": {
          "base_uri": "https://localhost:8080/",
          "height": 297
        },
        "id": "FUrj94yUutve",
        "outputId": "dc50901b-6047-4a94-a109-48db9471239c"
      },
      "execution_count": 29,
      "outputs": [
        {
          "output_type": "execute_result",
          "data": {
            "text/plain": [
              "<matplotlib.axes._subplots.AxesSubplot at 0x7f1e2f355e90>"
            ]
          },
          "metadata": {},
          "execution_count": 29
        },
        {
          "output_type": "display_data",
          "data": {
            "text/plain": [
              "<Figure size 432x288 with 1 Axes>"
            ],
            "image/png": "[encoded data removed]"
          },
          "metadata": {
            "needs_background": "light"
          }
        }
      ]
    },
    {
      "cell_type": "code",
      "source": [
        ""
      ],
      "metadata": {
        "id": "vl01Ptmmu7Vb"
      },
      "execution_count": null,
      "outputs": []
    }
  ]
}